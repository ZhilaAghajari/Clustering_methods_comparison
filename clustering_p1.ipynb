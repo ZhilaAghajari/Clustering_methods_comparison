{
  "nbformat": 4,
  "nbformat_minor": 0,
  "metadata": {
    "colab": {
      "name": "clustering_p1.ipynb",
      "provenance": [],
      "collapsed_sections": []
    },
    "kernelspec": {
      "name": "python3",
      "display_name": "Python 3"
    }
  },
  "cells": [
    {
      "cell_type": "code",
      "metadata": {
        "colab": {
          "base_uri": "https://localhost:8080/"
        },
        "id": "ciBzrC4sOu7-",
        "outputId": "7e6d7fc7-661c-4ba4-c3fc-c8337be93f71"
      },
      "source": [
        "!gdown --id 1CACpD4cXHJCHDUlyS0Yih-ScP568eJvi"
      ],
      "execution_count": null,
      "outputs": [
        {
          "output_type": "stream",
          "text": [
            "Downloading...\n",
            "From: https://drive.google.com/uc?id=1CACpD4cXHJCHDUlyS0Yih-ScP568eJvi\n",
            "To: /content/iyer.txt\n",
            "\r  0% 0.00/33.5k [00:00<?, ?B/s]\r100% 33.5k/33.5k [00:00<00:00, 27.5MB/s]\n"
          ],
          "name": "stdout"
        }
      ]
    },
    {
      "cell_type": "code",
      "metadata": {
        "colab": {
          "base_uri": "https://localhost:8080/"
        },
        "id": "6ehM-9JgO6is",
        "outputId": "9b32c8ae-97fa-4508-aefc-ff2cb8853ed4"
      },
      "source": [
        "!gdown --id 1hq9Q9B6fvUPyazzrdnnqSy5JO7sAuUg4"
      ],
      "execution_count": null,
      "outputs": [
        {
          "output_type": "stream",
          "text": [
            "Downloading...\n",
            "From: https://drive.google.com/uc?id=1hq9Q9B6fvUPyazzrdnnqSy5JO7sAuUg4\n",
            "To: /content/cho.txt\n",
            "\r  0% 0.00/36.3k [00:00<?, ?B/s]\r100% 36.3k/36.3k [00:00<00:00, 58.1MB/s]\n"
          ],
          "name": "stdout"
        }
      ]
    },
    {
      "cell_type": "code",
      "metadata": {
        "id": "bAzmUMmgO-Ol"
      },
      "source": [
        "import numpy as np\n",
        "from sklearn.decomposition import PCA\n",
        "from sklearn.preprocessing import StandardScaler\n",
        "import matplotlib.pyplot as plt\n",
        "from numpy import linalg\n",
        "import math\n",
        "from sklearn.cluster import KMeans, SpectralClustering # I have it here to verify my results .. \n",
        "from sklearn import metrics\n"
      ],
      "execution_count": null,
      "outputs": []
    },
    {
      "cell_type": "code",
      "metadata": {
        "id": "4FylU1szP9l9",
        "colab": {
          "base_uri": "https://localhost:8080/"
        },
        "outputId": "9ebaf9c1-1e5e-49a4-c007-43020331ae98"
      },
      "source": [
        "#read the dataset as numpy\n",
        "#data = np.loadtxt(open('cho.txt',newline=''), delimiter='\\t')\n",
        "data = np.loadtxt(open('iyer.txt',newline=''), delimiter='\\t')\n",
        "data.shape"
      ],
      "execution_count": null,
      "outputs": [
        {
          "output_type": "execute_result",
          "data": {
            "text/plain": [
              "(517, 14)"
            ]
          },
          "metadata": {
            "tags": []
          },
          "execution_count": 69
        }
      ]
    },
    {
      "cell_type": "code",
      "metadata": {
        "colab": {
          "base_uri": "https://localhost:8080/",
          "height": 288
        },
        "id": "AnGfEZuJa9Ca",
        "outputId": "75f77d64-59f1-4e47-986f-22fc5e78c5a3"
      },
      "source": [
        "import pandas as pd\n",
        "\n",
        "pd.DataFrame(data).describe()"
      ],
      "execution_count": null,
      "outputs": [
        {
          "output_type": "execute_result",
          "data": {
            "text/html": [
              "<div>\n",
              "<style scoped>\n",
              "    .dataframe tbody tr th:only-of-type {\n",
              "        vertical-align: middle;\n",
              "    }\n",
              "\n",
              "    .dataframe tbody tr th {\n",
              "        vertical-align: top;\n",
              "    }\n",
              "\n",
              "    .dataframe thead th {\n",
              "        text-align: right;\n",
              "    }\n",
              "</style>\n",
              "<table border=\"1\" class=\"dataframe\">\n",
              "  <thead>\n",
              "    <tr style=\"text-align: right;\">\n",
              "      <th></th>\n",
              "      <th>0</th>\n",
              "      <th>1</th>\n",
              "      <th>2</th>\n",
              "      <th>3</th>\n",
              "      <th>4</th>\n",
              "      <th>5</th>\n",
              "      <th>6</th>\n",
              "      <th>7</th>\n",
              "      <th>8</th>\n",
              "      <th>9</th>\n",
              "      <th>10</th>\n",
              "      <th>11</th>\n",
              "      <th>12</th>\n",
              "      <th>13</th>\n",
              "    </tr>\n",
              "  </thead>\n",
              "  <tbody>\n",
              "    <tr>\n",
              "      <th>count</th>\n",
              "      <td>517.000000</td>\n",
              "      <td>517.000000</td>\n",
              "      <td>517.0</td>\n",
              "      <td>517.000000</td>\n",
              "      <td>517.000000</td>\n",
              "      <td>517.000000</td>\n",
              "      <td>517.000000</td>\n",
              "      <td>517.000000</td>\n",
              "      <td>517.000000</td>\n",
              "      <td>517.000000</td>\n",
              "      <td>517.000000</td>\n",
              "      <td>517.000000</td>\n",
              "      <td>517.000000</td>\n",
              "      <td>517.000000</td>\n",
              "    </tr>\n",
              "    <tr>\n",
              "      <th>mean</th>\n",
              "      <td>259.000000</td>\n",
              "      <td>3.661509</td>\n",
              "      <td>1.0</td>\n",
              "      <td>1.005532</td>\n",
              "      <td>1.125938</td>\n",
              "      <td>1.274468</td>\n",
              "      <td>1.209400</td>\n",
              "      <td>1.455048</td>\n",
              "      <td>1.553056</td>\n",
              "      <td>1.476383</td>\n",
              "      <td>1.263598</td>\n",
              "      <td>1.317756</td>\n",
              "      <td>1.366673</td>\n",
              "      <td>1.465242</td>\n",
              "    </tr>\n",
              "    <tr>\n",
              "      <th>std</th>\n",
              "      <td>149.389312</td>\n",
              "      <td>3.091550</td>\n",
              "      <td>0.0</td>\n",
              "      <td>0.318470</td>\n",
              "      <td>0.759588</td>\n",
              "      <td>1.242392</td>\n",
              "      <td>0.987092</td>\n",
              "      <td>2.391082</td>\n",
              "      <td>4.206261</td>\n",
              "      <td>2.285663</td>\n",
              "      <td>1.550076</td>\n",
              "      <td>1.311602</td>\n",
              "      <td>1.309554</td>\n",
              "      <td>1.499022</td>\n",
              "    </tr>\n",
              "    <tr>\n",
              "      <th>min</th>\n",
              "      <td>1.000000</td>\n",
              "      <td>-1.000000</td>\n",
              "      <td>1.0</td>\n",
              "      <td>0.310000</td>\n",
              "      <td>0.100000</td>\n",
              "      <td>0.320000</td>\n",
              "      <td>0.310000</td>\n",
              "      <td>0.170000</td>\n",
              "      <td>0.160000</td>\n",
              "      <td>0.100000</td>\n",
              "      <td>0.130000</td>\n",
              "      <td>0.160000</td>\n",
              "      <td>0.130000</td>\n",
              "      <td>0.120000</td>\n",
              "    </tr>\n",
              "    <tr>\n",
              "      <th>25%</th>\n",
              "      <td>130.000000</td>\n",
              "      <td>1.000000</td>\n",
              "      <td>1.0</td>\n",
              "      <td>0.830000</td>\n",
              "      <td>0.760000</td>\n",
              "      <td>0.780000</td>\n",
              "      <td>0.790000</td>\n",
              "      <td>0.620000</td>\n",
              "      <td>0.500000</td>\n",
              "      <td>0.440000</td>\n",
              "      <td>0.440000</td>\n",
              "      <td>0.670000</td>\n",
              "      <td>0.650000</td>\n",
              "      <td>0.670000</td>\n",
              "    </tr>\n",
              "    <tr>\n",
              "      <th>50%</th>\n",
              "      <td>259.000000</td>\n",
              "      <td>2.000000</td>\n",
              "      <td>1.0</td>\n",
              "      <td>0.970000</td>\n",
              "      <td>0.950000</td>\n",
              "      <td>0.970000</td>\n",
              "      <td>0.970000</td>\n",
              "      <td>0.850000</td>\n",
              "      <td>0.740000</td>\n",
              "      <td>0.660000</td>\n",
              "      <td>0.650000</td>\n",
              "      <td>0.920000</td>\n",
              "      <td>0.920000</td>\n",
              "      <td>0.950000</td>\n",
              "    </tr>\n",
              "    <tr>\n",
              "      <th>75%</th>\n",
              "      <td>388.000000</td>\n",
              "      <td>6.000000</td>\n",
              "      <td>1.0</td>\n",
              "      <td>1.120000</td>\n",
              "      <td>1.220000</td>\n",
              "      <td>1.210000</td>\n",
              "      <td>1.160000</td>\n",
              "      <td>1.490000</td>\n",
              "      <td>1.650000</td>\n",
              "      <td>1.870000</td>\n",
              "      <td>1.670000</td>\n",
              "      <td>1.620000</td>\n",
              "      <td>1.620000</td>\n",
              "      <td>1.590000</td>\n",
              "    </tr>\n",
              "    <tr>\n",
              "      <th>max</th>\n",
              "      <td>517.000000</td>\n",
              "      <td>10.000000</td>\n",
              "      <td>1.0</td>\n",
              "      <td>3.350000</td>\n",
              "      <td>8.140000</td>\n",
              "      <td>12.690000</td>\n",
              "      <td>11.480000</td>\n",
              "      <td>38.800000</td>\n",
              "      <td>86.920000</td>\n",
              "      <td>25.580000</td>\n",
              "      <td>14.810000</td>\n",
              "      <td>15.210000</td>\n",
              "      <td>13.750000</td>\n",
              "      <td>11.020000</td>\n",
              "    </tr>\n",
              "  </tbody>\n",
              "</table>\n",
              "</div>"
            ],
            "text/plain": [
              "               0           1      2   ...          11          12          13\n",
              "count  517.000000  517.000000  517.0  ...  517.000000  517.000000  517.000000\n",
              "mean   259.000000    3.661509    1.0  ...    1.317756    1.366673    1.465242\n",
              "std    149.389312    3.091550    0.0  ...    1.311602    1.309554    1.499022\n",
              "min      1.000000   -1.000000    1.0  ...    0.160000    0.130000    0.120000\n",
              "25%    130.000000    1.000000    1.0  ...    0.670000    0.650000    0.670000\n",
              "50%    259.000000    2.000000    1.0  ...    0.920000    0.920000    0.950000\n",
              "75%    388.000000    6.000000    1.0  ...    1.620000    1.620000    1.590000\n",
              "max    517.000000   10.000000    1.0  ...   15.210000   13.750000   11.020000\n",
              "\n",
              "[8 rows x 14 columns]"
            ]
          },
          "metadata": {
            "tags": []
          },
          "execution_count": 70
        }
      ]
    },
    {
      "cell_type": "code",
      "metadata": {
        "colab": {
          "base_uri": "https://localhost:8080/"
        },
        "id": "YsflvElQgyPu",
        "outputId": "0f5fa008-3657-4104-94ec-fbda74ff50f5"
      },
      "source": [
        "#see the numbers of outlier in each data set:\n",
        "(np.argwhere(data[:,1] == -1)).shape\n"
      ],
      "execution_count": null,
      "outputs": [
        {
          "output_type": "execute_result",
          "data": {
            "text/plain": [
              "(33, 1)"
            ]
          },
          "metadata": {
            "tags": []
          },
          "execution_count": 71
        }
      ]
    },
    {
      "cell_type": "code",
      "metadata": {
        "colab": {
          "base_uri": "https://localhost:8080/",
          "height": 298
        },
        "id": "MWpRojhRTeRK",
        "outputId": "10c4a494-fc38-4e83-cf40-b424a99d2433"
      },
      "source": [
        "#visualize the data\n",
        "#normalize the data\n",
        "scaler = StandardScaler()\n",
        "scaled_data = scaler.fit_transform(data[:,2:])\n",
        "\n",
        "#PCA\n",
        "pca = PCA(n_components=2)\n",
        "pca_data = pca.fit_transform(scaled_data)\n",
        "plt.scatter(x = pca_data[:, 0], y = pca_data[:,1], c=data[:,1])\n",
        "plt.title('PCA of Iyer dataset')\n"
      ],
      "execution_count": null,
      "outputs": [
        {
          "output_type": "execute_result",
          "data": {
            "text/plain": [
              "Text(0.5, 1.0, 'PCA of Iyer dataset')"
            ]
          },
          "metadata": {
            "tags": []
          },
          "execution_count": 72
        },
        {
          "output_type": "display_data",
          "data": {
            "image/png": "[encoded data removed]",
            "text/plain": [
              "<Figure size 432x288 with 1 Axes>"
            ]
          },
          "metadata": {
            "tags": [],
            "needs_background": "light"
          }
        }
      ]
    },
    {
      "cell_type": "code",
      "metadata": {
        "id": "zN64kuNwZXP9"
      },
      "source": [
        "#Kmeans clustering \n",
        "def Kmeans(data, K, eps = 0.001):\n",
        "  #\n",
        "  centers = np.zeros((K, len(data[0])))\n",
        "  previous_centers = centers\n",
        "  #choose random centers\n",
        "  rand_indx = np.random.permutation(len(data))\n",
        "  centers = data[rand_indx[0:K], :]\n",
        "\n",
        "  #set the cluster labels as zeros first\n",
        "  clusters = np.zeros((len(data)))\n",
        "  center_changes=1\n",
        "  while(center_changes >= eps):\n",
        "    center_changes = 0\n",
        "    for i in range(len(data)):\n",
        "      dis = distance(data[i, :], centers)\n",
        "      clusters[i] = np.argmin(dis)\n",
        "    # I had to do deep copy here .. \n",
        "    previous_centers[:, :] = centers[:, :]\n",
        "\n",
        "    #updating the clusters:\n",
        "    for i in range(0, K):\n",
        "      temp = data[np.argwhere(clusters==i),:]\n",
        "      centers[i, :] = np.mean(temp, axis=0)\n",
        "    #check if the centers changed noticably\n",
        "    for i in range(0, K):\n",
        "      center_changes += np.sqrt(sum(np.power(previous_centers[i, :]- centers[i, :], 2)))\n",
        "    \n",
        "  return(clusters,centers)\n",
        "\n"
      ],
      "execution_count": null,
      "outputs": []
    },
    {
      "cell_type": "code",
      "metadata": {
        "id": "L_5Xva0DkN_J"
      },
      "source": [
        ""
      ],
      "execution_count": null,
      "outputs": []
    },
    {
      "cell_type": "code",
      "metadata": {
        "id": "vSn_6cVji_9b"
      },
      "source": [
        "def distance(data, centers):\n",
        "  dis = [0]*len(centers)\n",
        "  for i in range(len(centers)):\n",
        "    dis[i] = np.sqrt(sum(np.power((data-centers[i]), 2)))\n",
        "  return dis\n"
      ],
      "execution_count": null,
      "outputs": []
    },
    {
      "cell_type": "markdown",
      "metadata": {
        "id": "1baxlhvnjsop"
      },
      "source": [
        ""
      ]
    },
    {
      "cell_type": "code",
      "metadata": {
        "id": "aTzsVYcGlxBP"
      },
      "source": [
        "# K=4\n",
        "# clusters, centers = Kmeans(data[:, 2:], K, eps = 0.0001)\n",
        "#visualize the data\n",
        "#PCA\n",
        "def visualize(data, cluster, title):\n",
        "  pca = PCA(n_components=2)\n",
        "  pca_data = pca.fit_transform(data)\n",
        "  plt.scatter(x =pca_data[:, 0], y = pca_data[:,1], c=clusters)\n",
        "  plt.title(title)"
      ],
      "execution_count": null,
      "outputs": []
    },
    {
      "cell_type": "code",
      "metadata": {
        "id": "4z4mwrUDln3-"
      },
      "source": [
        "# external index --  I used entropy, purity and normalized mutual information as the external index \n",
        "def external_index(clusters, labels):\n",
        "  entropy = 0\n",
        "  total_purity = 0\n",
        "  unique_labels = list(set(labels))\n",
        "  # I analyzed the data once without outliers once with the outliers to see what happens\n",
        "  if -1 in unique_labels:\n",
        "    unique_labels.remove(-1) # we need to remove the outliers\n",
        "  \n",
        "  unique_clusters = list(set(clusters))\n",
        "\n",
        "  for clstr in unique_clusters:\n",
        "    entropy_i = 0\n",
        "    purity_i =0\n",
        "    purity_max = 0\n",
        "    for l in unique_labels:\n",
        "      Ci = [x for x in range(len(labels)) if labels[x]==l] # all the samples with class c\n",
        "      Di = [x for x in range(len(clusters)) if clusters[x] == clstr] # samples within clstr cluster \n",
        "\n",
        "      P_i_j = len([x for x in Ci if x in Di])/len(Di) # \n",
        "      if P_i_j!=0:\n",
        "        entropy_i += P_i_j*math.log2(P_i_j)\n",
        "        # entropy_i = -1*entropy_i\n",
        "        purity_i = max(P_i_j,purity_i)\n",
        "    entropy += (len(Di)/len(clusters))*(entropy_i)\n",
        "    total_purity += ((len(Di)/len(clusters))*(purity_i))\n",
        "  entropy = (-1*entropy) #I need to ask whether I need to report it as a negative or positive value -- there is negative in the formula but it is mentioned it is a negative measure! Got it: it is a negative measure in a sense that the lower the value the better our results\n",
        "  return entropy, total_purity\n",
        "\n",
        "\n",
        "\n"
      ],
      "execution_count": null,
      "outputs": []
    },
    {
      "cell_type": "code",
      "metadata": {
        "id": "YnpxmggIFd8G"
      },
      "source": [
        ""
      ],
      "execution_count": null,
      "outputs": []
    },
    {
      "cell_type": "code",
      "metadata": {
        "id": "uJbSf-_94R-D"
      },
      "source": [
        "#internal index -- Sihousetee Coefficient\n",
        "def internal_index(data, clusters, labels):\n",
        "  sht = [0]*len(data)\n",
        "  unique_clusters = list(set(clusters))\n",
        "  a_i = 0\n",
        "  for i in range(len(data)):\n",
        "    clstr = int(clusters[i])\n",
        "    if (len(clusters[clusters==clstr])-1)!=0:\n",
        "      a_i = sum(distance(data[i, :], data[clusters==clstr, :]))/(len(clusters[clusters==clstr])-1)\n",
        "    \n",
        "    #b = [0]*len(unique_clusters)\n",
        "    b = []\n",
        "    for j in range(len(unique_clusters)):\n",
        "      if int(unique_clusters[j] == clstr):\n",
        "        continue\n",
        "      b.append(sum(distance(data[i, :],data[clusters==unique_clusters[j],: ]))/len(clusters[clusters==unique_clusters[j]]))\n",
        "    if len(b)>0:\n",
        "      # print('what is B: ', b)\n",
        "      b = min(b)\n",
        "    if max(a_i,b)!=0:\n",
        "      sht[i] = (b-a_i)/max(a_i,b)\n",
        "    if np.isnan(sht[i]):\n",
        "      print(max(a_i,b))\n",
        "  SHT = np.mean(sht)\n",
        "  # if np.isnan(SHT):\n",
        "  #   print('check this: ',(b-a_i), max(a_i,b), sht)\n",
        "  return SHT"
      ],
      "execution_count": null,
      "outputs": []
    },
    {
      "cell_type": "code",
      "metadata": {
        "id": "RA6xZVoKpbUd"
      },
      "source": [
        "#spectral clustering\n",
        "def spectral(data, K, sigma):\n",
        "  #W : the simialrity matrix\n",
        "  W = np.zeros((len(data), len(data)))\n",
        "  #D: Degree matrix\n",
        "  D = np.zeros((len(data), len(data)))\n",
        "\n",
        "  for i in range(len(data)):\n",
        "    temp= np.exp((-1*(np.asarray(distance(data[i,:], data))))/2*sigma**2)\n",
        "    # only choose the K-nearset neughbors (based on slide 58), and the rest will be zeros\n",
        "    temp[temp<(sorted(temp)[len(temp)-K])] = 0 \n",
        "    W[i, :] = temp\n",
        "    D[i, i] = sum(temp) #sum of each row in the W matrix \n",
        "  L = D - W\n",
        "  \n",
        "  #get the eigne values and the eigen vectors\n",
        "  eig_vector, eig_value = linalg.eig(L)\n",
        "  # print('these are the eig_vector: ', eig_vector) -> So, eigen vectors are complex numbers!!\n",
        "  #choose the K as the one that maximizes the difference between two sequential eignen vectors .. \n",
        "  #choosen_k = np.argmax(((np.sort_complex(eig_vector)[1:]) - (np.sort_complex(eig_vector)[0:-1]))) \n",
        "  #print('Chosen K: {0} , len of data {1}'.format(choosen_k,len(data)))\n",
        "  choosen_k = len(data) -  np.argmax(np.sort_complex(eig_vector)[1:] - np.sort_complex(eig_vector)[0:-1]) #sort complex sort them in assending order but we need the descending order \n",
        "  # print('Chosen K: ', np.argmax(np.sort_complex(eig_vector)[1:] - np.sort_complex(eig_vector)[0:-1]) )\n",
        "  print(len(data))\n",
        "\n",
        "  indx = np.argsort(eig_vector)[-K:]\n",
        "  egin_data = eig_value[:, indx]\n",
        "\n",
        "  clusters, centers = Kmeans(egin_data, choosen_k)\n",
        "  return clusters, centers"
      ],
      "execution_count": null,
      "outputs": []
    },
    {
      "cell_type": "code",
      "metadata": {
        "id": "HUo57A6G6bgX"
      },
      "source": [
        "def best_matching(k_labels, truth):\n",
        "  k_labels_matched = np.empty_like(k_labels)\n",
        "  # For each cluster label...\n",
        "  for k in np.unique(k_labels):\n",
        "\n",
        "      # ...find and assign the best-matching truth label\n",
        "      match_nums = [np.sum((k_labels==k)*(truth==t)) for t in np.unique(truth)]\n",
        "      k_labels_matched[k_labels==k] = np.unique(truth)[np.argmax(match_nums)]\n",
        "  return k_labels_matched"
      ],
      "execution_count": null,
      "outputs": []
    },
    {
      "cell_type": "code",
      "metadata": {
        "id": "R1cLmgVWN-lu"
      },
      "source": [
        "#FOR VALIDATION:\n",
        "# I only added this to validate my purity calculation. this is done using contingency matrix and is similar to formula given in slide 51 of lecture 8 \n",
        "from sklearn.metrics import confusion_matrix\n",
        "def purity_score(truth, y_pred):\n",
        "    cm = confusion_matrix(truth, y_pred)\n",
        "    # return purity\n",
        "    return np.sum(np.amax(cm, axis=0)) / np.sum(cm) "
      ],
      "execution_count": null,
      "outputs": []
    },
    {
      "cell_type": "code",
      "metadata": {
        "colab": {
          "base_uri": "https://localhost:8080/",
          "height": 385
        },
        "id": "B_PqTwRnJpO4",
        "outputId": "59ca1a93-6384-4c68-d08f-33ae96c4a794"
      },
      "source": [
        "# ************* << K-means resuls >> *************\n",
        "K = 4\n",
        "clusters, centers = Kmeans(data[:, 2:], K)\n",
        "k_labels_matched = best_matching(clusters, data[:, 1])\n",
        "visualize(data[:, 2:], k_labels_matched, 'Kmeans with 4 class')\n",
        "entropy, purity = external_index(k_labels_matched, data[:, 1])\n",
        "SHT = internal_index(data, k_labels_matched, data[:, 1])\n",
        "print(' ---- K-means results ----')\n",
        "print('External indexs:')\n",
        "print('Entropy: ',entropy)\n",
        "print('purity: ',purity)\n",
        "print('Sihousetee (internal_index): ', SHT)\n",
        "\n",
        "print('Validating purity using confusion matrix: ', purity_score(data[:, 1], k_labels_matched) )\n",
        "\n"
      ],
      "execution_count": null,
      "outputs": [
        {
          "output_type": "stream",
          "text": [
            " ---- K-means results ----\n",
            "External indexs:\n",
            "Entropy:  2.431686952193754\n",
            "purity:  0.38878143133462284\n",
            "Sihousetee (internal_index):  0.3479167733891473\n",
            "Validating purity using confusion matrix:  0.38878143133462284\n"
          ],
          "name": "stdout"
        },
        {
          "output_type": "display_data",
          "data": {
            "image/png": "[encoded data removed]",
            "text/plain": [
              "<Figure size 432x288 with 1 Axes>"
            ]
          },
          "metadata": {
            "tags": [],
            "needs_background": "light"
          }
        }
      ]
    },
    {
      "cell_type": "code",
      "metadata": {
        "id": "DWD5T_TFylhN"
      },
      "source": [
        ""
      ],
      "execution_count": null,
      "outputs": []
    },
    {
      "cell_type": "code",
      "metadata": {
        "id": "tREqikZw6G_8"
      },
      "source": [
        ""
      ],
      "execution_count": null,
      "outputs": []
    },
    {
      "cell_type": "code",
      "metadata": {
        "colab": {
          "base_uri": "https://localhost:8080/",
          "height": 436
        },
        "id": "qqGUfZAIL7-f",
        "outputId": "8f79d4f3-a4ad-4c95-d180-b87302b11edf"
      },
      "source": [
        "# Spectral method\n",
        "K = 4\n",
        "sigma = 1\n",
        "clusters, centers = spectral(data[:, 2:], K, sigma)\n",
        "k_labels_matched = best_matching(clusters, data[:, 1])\n",
        "k_labels_matched = clusters\n",
        "visualize(data[:, 2:], k_labels_matched, 'Spectral clustering')\n",
        "entropy, purity = external_index(k_labels_matched, data[:, 1])\n",
        "print(k_labels_matched.shape)\n",
        "SHT = internal_index(data[:, 2:], k_labels_matched, data[:, 1])\n",
        "print(' ---- Spectral results ----')\n",
        "print('External indexs:')\n",
        "print('Entropy: ',entropy)\n",
        "print('purity: ',purity)\n",
        "print('Sihousetee (internal_index): ', SHT)\n",
        "print('Validating purity using confusion matrix: ', purity_score(data[:, 1], k_labels_matched) )\n",
        "\n",
        "\n",
        "\n",
        "\n"
      ],
      "execution_count": null,
      "outputs": [
        {
          "output_type": "stream",
          "text": [
            "517\n",
            "(517,)\n"
          ],
          "name": "stdout"
        },
        {
          "output_type": "stream",
          "text": [
            "/usr/local/lib/python3.7/dist-packages/ipykernel_launcher.py:19: ComplexWarning: Casting complex values to real discards the imaginary part\n"
          ],
          "name": "stderr"
        },
        {
          "output_type": "stream",
          "text": [
            " ---- Spectral results ----\n",
            "External indexs:\n",
            "Entropy:  2.9570708559703176\n",
            "purity:  0.30174081237911027\n",
            "Sihousetee (internal_index):  -0.3834060618722651\n",
            "Validating purity using confusion matrix:  0.30174081237911027\n"
          ],
          "name": "stdout"
        },
        {
          "output_type": "display_data",
          "data": {
            "image/png": "[encoded data removed]",
            "text/plain": [
              "<Figure size 432x288 with 1 Axes>"
            ]
          },
          "metadata": {
            "tags": [],
            "needs_background": "light"
          }
        }
      ]
    },
    {
      "cell_type": "code",
      "metadata": {
        "colab": {
          "base_uri": "https://localhost:8080/",
          "height": 367
        },
        "id": "AvCNLLDWiBz1",
        "outputId": "2be9f102-a719-4dd8-b777-dd204dbe5a51"
      },
      "source": [
        "#VALIDATION:\n",
        "# Here I am only checking my result with Sklearn results:\n",
        "clusters_sklearn = KMeans(n_clusters = 4).fit(data[:, 2:])\n",
        "\n",
        "visualize(data[:, 2:], clusters_sklearn, 'K means SK-learn')\n",
        "entropy, purity = external_index(clusters_sklearn.labels_, data[:, 1])\n",
        "# print('shape of clustersss ', clusters_sklearn.labels_.shape)\n",
        "# print('shape of labels ', data[:, 2].shape)\n",
        "SHT = internal_index(data, clusters_sklearn.labels_, data[:, 1])\n",
        "print(' ---- K-means results ----')\n",
        "print('External indexs:')\n",
        "print('Entropy: ',entropy)\n",
        "print('purity: ',purity)\n",
        "print('Sihousetee (internal_index): ', SHT)\n",
        "\n",
        "\n",
        "\n"
      ],
      "execution_count": null,
      "outputs": [
        {
          "output_type": "stream",
          "text": [
            " ---- K-means results ----\n",
            "External indexs:\n",
            "Entropy:  2.421095889359963\n",
            "purity:  0.38878143133462284\n",
            "Sihousetee (internal_index):  0.20696075278110834\n"
          ],
          "name": "stdout"
        },
        {
          "output_type": "display_data",
          "data": {
            "image/png": "[encoded data removed]",
            "text/plain": [
              "<Figure size 432x288 with 1 Axes>"
            ]
          },
          "metadata": {
            "tags": [],
            "needs_background": "light"
          }
        }
      ]
    },
    {
      "cell_type": "code",
      "metadata": {
        "colab": {
          "base_uri": "https://localhost:8080/",
          "height": 436
        },
        "id": "OH1krwIhlF5E",
        "outputId": "b56b2709-1ea0-420a-f8c3-a5e3d411e8d5"
      },
      "source": [
        "# VALIDATION:\n",
        "#checking my results with SpectralClustering from the Sklearn:\n",
        "clusters_sklearn = SpectralClustering(n_clusters = 4).fit(data[:, 2:])\n",
        "visualize(data[:, 2:], clusters_sklearn, 'SpectralClustering from the Sklearn')\n",
        "entropy, purity = external_index(clusters_sklearn.labels_, data[:, 1])\n",
        "SHT = internal_index(data, clusters_sklearn.labels_, data[:, 1])\n",
        "print(' ---- SpectralClustering results ----')\n",
        "print('External indexs:')\n",
        "print('Entropy: ',entropy)\n",
        "print('purity: ',purity)\n",
        "print('SHT ', SHT)"
      ],
      "execution_count": null,
      "outputs": [
        {
          "output_type": "stream",
          "text": [
            "/usr/local/lib/python3.7/dist-packages/sklearn/manifold/_spectral_embedding.py:236: UserWarning: Graph is not fully connected, spectral embedding may not work as expected.\n",
            "  warnings.warn(\"Graph is not fully connected, spectral embedding\"\n",
            "/usr/local/lib/python3.7/dist-packages/sklearn/cluster/_kmeans.py:296: ConvergenceWarning: Number of distinct clusters (2) found smaller than n_clusters (4). Possibly due to duplicate points in X.\n",
            "  ).fit(X, sample_weight=sample_weight)\n"
          ],
          "name": "stderr"
        },
        {
          "output_type": "stream",
          "text": [
            " ---- SpectralClustering results ----\n",
            "External indexs:\n",
            "Entropy:  3.013347814040009\n",
            "purity:  0.28239845261121854\n",
            "SHT  0.12983694039030713\n"
          ],
          "name": "stdout"
        },
        {
          "output_type": "display_data",
          "data": {
            "image/png": "[encoded data removed]",
            "text/plain": [
              "<Figure size 432x288 with 1 Axes>"
            ]
          },
          "metadata": {
            "tags": [],
            "needs_background": "light"
          }
        }
      ]
    },
    {
      "cell_type": "code",
      "metadata": {
        "id": "LayUQgTHOMV1"
      },
      "source": [
        "#analysing the two methods on different values of K\n",
        "def exploring_k_effects(data):\n",
        "  itr = 30\n",
        "  results = np.zeros((itr, 4))\n",
        "  for k in range(2,itr):\n",
        "    # clusters, centers = Kmeans(data, K)\n",
        "    # clusters, centers = spectral(data, K, 1)\n",
        "    clusters, centers = Kmeans(data[:, 2:], k)\n",
        "    k_labels_matched = best_matching(clusters, data[:, 1])\n",
        "\n",
        "    entropy, purity = external_index(k_labels_matched, data[:, 1])\n",
        "    SHT = internal_index(data, k_labels_matched, data[:, 1])\n",
        "    results[k, 0] = k\n",
        "    results[k, 1] = entropy\n",
        "    results[k, 2]= purity\n",
        "    results[k, 3] = SHT\n",
        "\n",
        "\n",
        "  return results \n",
        "\n",
        "results = exploring_k_effects(data)\n",
        "\n",
        "\n"
      ],
      "execution_count": null,
      "outputs": []
    },
    {
      "cell_type": "code",
      "metadata": {
        "colab": {
          "base_uri": "https://localhost:8080/",
          "height": 298
        },
        "id": "5aeQuITexI5O",
        "outputId": "dea2ac7d-68ba-44c1-afb2-f03e616afc02"
      },
      "source": [
        "#ploting\n",
        "plt.plot(results[2:,0],results[2:,1])\n",
        "plt.title('the effect of K value on entropy')\n",
        "\n",
        "# plt.plot(results[2:,0],results[2:,2])\n",
        "# plt.title('K effects on Purity')\n",
        "# plt.show()\n",
        "\n",
        "# plt.plot(results[2:,0],results[2:,3])\n",
        "# plt.title('the effect of K value on Sihousetee Coefficient')"
      ],
      "execution_count": null,
      "outputs": [
        {
          "output_type": "execute_result",
          "data": {
            "text/plain": [
              "Text(0.5, 1.0, 'the effect of K value on entropy')"
            ]
          },
          "metadata": {
            "tags": []
          },
          "execution_count": 88
        },
        {
          "output_type": "display_data",
          "data": {
            "image/png": "[encoded data removed]",
            "text/plain": [
              "<Figure size 432x288 with 1 Axes>"
            ]
          },
          "metadata": {
            "tags": [],
            "needs_background": "light"
          }
        }
      ]
    }
  ]
}